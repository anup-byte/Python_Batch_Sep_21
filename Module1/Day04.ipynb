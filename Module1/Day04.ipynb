{
 "cells": [
  {
   "cell_type": "code",
   "execution_count": null,
   "metadata": {},
   "outputs": [],
   "source": [
    "# New Line ('\\n')"
   ]
  },
  {
   "cell_type": "code",
   "execution_count": 1,
   "metadata": {},
   "outputs": [
    {
     "name": "stdout",
     "output_type": "stream",
     "text": [
      "Hello\n",
      "World\n"
     ]
    }
   ],
   "source": [
    "print(\"Hello\\nWorld\")"
   ]
  },
  {
   "cell_type": "code",
   "execution_count": 2,
   "metadata": {},
   "outputs": [
    {
     "name": "stdout",
     "output_type": "stream",
     "text": [
      "Line 1\n",
      "Line 2\n",
      "Line 3\n"
     ]
    }
   ],
   "source": [
    "message = \"Line 1\\nLine 2\\nLine 3\"\n",
    "\n",
    "print(message)"
   ]
  },
  {
   "cell_type": "code",
   "execution_count": 3,
   "metadata": {},
   "outputs": [
    {
     "name": "stdout",
     "output_type": "stream",
     "text": [
      "First Line\n",
      "Second Line\n"
     ]
    }
   ],
   "source": [
    "print(\"First Line\\nSecond Line\")"
   ]
  },
  {
   "cell_type": "code",
   "execution_count": null,
   "metadata": {},
   "outputs": [],
   "source": [
    "# Tab ('\\t')"
   ]
  },
  {
   "cell_type": "code",
   "execution_count": 4,
   "metadata": {},
   "outputs": [
    {
     "name": "stdout",
     "output_type": "stream",
     "text": [
      "Column1\tColumn2\n"
     ]
    }
   ],
   "source": [
    "print(\"Column1\\tColumn2\")"
   ]
  },
  {
   "cell_type": "code",
   "execution_count": 5,
   "metadata": {},
   "outputs": [
    {
     "name": "stdout",
     "output_type": "stream",
     "text": [
      "This is a backslash: \\\n"
     ]
    }
   ],
   "source": [
    "# Backslash ('\\\\')\n",
    "\n",
    "print(\"This is a backslash: \\\\\")"
   ]
  },
  {
   "cell_type": "code",
   "execution_count": 6,
   "metadata": {},
   "outputs": [
    {
     "name": "stdout",
     "output_type": "stream",
     "text": [
      "It's a beautiful day\n"
     ]
    }
   ],
   "source": [
    "# Single Quote (\\')\n",
    "\n",
    "print('It\\'s a beautiful day')"
   ]
  },
  {
   "cell_type": "code",
   "execution_count": 7,
   "metadata": {},
   "outputs": [
    {
     "name": "stdout",
     "output_type": "stream",
     "text": [
      "She said, \"Hello!\"\n"
     ]
    }
   ],
   "source": [
    "# Double Quote (\\\")\n",
    "\n",
    "print(\"She said, \\\"Hello!\\\"\")"
   ]
  },
  {
   "cell_type": "code",
   "execution_count": 8,
   "metadata": {},
   "outputs": [
    {
     "name": "stdout",
     "output_type": "stream",
     "text": [
      "World\n"
     ]
    }
   ],
   "source": [
    "# Carriage Return (\\r)\n",
    "\n",
    "# carriage return character \\r moves the cursor \n",
    "\n",
    "# to the beginning of the line without advancing to the next line. \n",
    "\n",
    "# This means it will overwrite the existing line content from the start.\n",
    "\n",
    "print(\"Hello\\rWorld\")"
   ]
  },
  {
   "cell_type": "code",
   "execution_count": 9,
   "metadata": {},
   "outputs": [
    {
     "name": "stdout",
     "output_type": "stream",
     "text": [
      "Worldglp\n"
     ]
    }
   ],
   "source": [
    "print(\"Helloglp\\rWorld\")"
   ]
  },
  {
   "cell_type": "code",
   "execution_count": 11,
   "metadata": {},
   "outputs": [
    {
     "name": "stdout",
     "output_type": "stream",
     "text": [
      "HellWorld\n"
     ]
    }
   ],
   "source": [
    "#  Backspace (\\b)\n",
    "\n",
    "# The backspace character \\b moves the cursor one character back,\n",
    "\n",
    "# and if you print after it, it will overwrite the character before it.\n",
    "\n",
    "print(\"Hello\\bWorld\")"
   ]
  },
  {
   "cell_type": "code",
   "execution_count": 12,
   "metadata": {},
   "outputs": [
    {
     "name": "stdout",
     "output_type": "stream",
     "text": [
      "Hello\fWorld\n"
     ]
    }
   ],
   "source": [
    "# Form Feed (\\f)\n",
    "\n",
    "# The form feed character \\f moves the cursor to the beginning of the next logical page. \n",
    "\n",
    "# The effect of this character can vary depending on the environment in which the code is executed.\n",
    "\n",
    "print(\"Hello\\fWorld\") # The actual visual output might depend on the terminal or text editor."
   ]
  },
  {
   "cell_type": "code",
   "execution_count": 13,
   "metadata": {},
   "outputs": [
    {
     "name": "stdout",
     "output_type": "stream",
     "text": [
      "Hello\u000bWorld\n"
     ]
    }
   ],
   "source": [
    "# Vertical Tab (\\v)\n",
    "\n",
    "# The vertical tab character \\v moves the cursor down to the next vertical tab stop.\n",
    "\n",
    "print(\"Hello\\vWorld\") # Like the form feed, the visual effect of this character can depend on the environment.\n"
   ]
  },
  {
   "cell_type": "code",
   "execution_count": 14,
   "metadata": {},
   "outputs": [
    {
     "name": "stdout",
     "output_type": "stream",
     "text": [
      "Hello\u0000World\n"
     ]
    }
   ],
   "source": [
    "# Null Character (\\0)\n",
    "\n",
    "# The null character \\0 represents the end of a string in languages like C, \n",
    "\n",
    "# but in Python, it's just a regular character within a string.\n",
    "\n",
    "print(\"Hello\\0World\")"
   ]
  },
  {
   "cell_type": "code",
   "execution_count": 15,
   "metadata": {},
   "outputs": [
    {
     "name": "stdout",
     "output_type": "stream",
     "text": [
      "Column1\tColumn2\tColumn3\n",
      "Value1\tValue2\tValue3\n",
      "OverwriteLine1\n"
     ]
    }
   ],
   "source": [
    "print(\"Column1\\tColumn2\\tColumn3\\nValue1\\tValue2\\tValue3\\nLine1\\rOverwriteLine1\")"
   ]
  },
  {
   "cell_type": "code",
   "execution_count": 16,
   "metadata": {},
   "outputs": [
    {
     "name": "stdout",
     "output_type": "stream",
     "text": [
      "C:\\Users\\Anup\\Documents\\file.txt\n"
     ]
    }
   ],
   "source": [
    "file_path = r\"C:\\Users\\Anup\\Documents\\file.txt\"\n",
    "\n",
    "print(file_path)"
   ]
  },
  {
   "cell_type": "code",
   "execution_count": 17,
   "metadata": {},
   "outputs": [
    {
     "name": "stdout",
     "output_type": "stream",
     "text": [
      "Dear Anup,\n",
      "\n",
      "This is a reminder for your meeting scheduled on:\n",
      "Date: 25th July 2024\n",
      "Time: 10:00 AM\n",
      "\n",
      "Regards,\n",
      "AI Team\n",
      "\n"
     ]
    }
   ],
   "source": [
    "message = \"\"\"Dear Anup,\n",
    "\n",
    "This is a reminder for your meeting scheduled on:\n",
    "Date: 25th July 2024\n",
    "Time: 10:00 AM\n",
    "\n",
    "Regards,\n",
    "AI Team\n",
    "\"\"\"\n",
    "print(message)"
   ]
  },
  {
   "cell_type": "markdown",
   "metadata": {},
   "source": [
    "### **Summary of Common Escape Sequences**\n",
    "\n",
    "| Escape Sequence | Description                         | Example                    | Output                      |\n",
    "|-----------------|-------------------------------------|----------------------------|-----------------------------|\n",
    "| `\\n`            | New Line                            | `\"Hello\\nWorld\"`           | `Hello` <br> `World`        |\n",
    "| `\\t`            | Horizontal Tab                      | `\"Hello\\tWorld\"`           | `Hello    World`            |\n",
    "| `\\\\`            | Backslash                           | `\"C:\\\\Users\\\\Anup\"`        | `C:\\Users\\Anup`             |\n",
    "| `\\'`            | Single Quote                        | `\"It\\'s a test\"`           | `It's a test`               |\n",
    "| `\\\"`            | Double Quote                        | `\"She said, \\\"Hello!\\\"\"`   | `She said, \"Hello!\"`        |\n",
    "| `\\r`            | Carriage Return                     | `\"Hello\\rWorld\"`           | `World`                     |\n",
    "| `\\b`            | Backspace                           | `\"Hello\\bWorld\"`           | `HellWorld`                 |\n",
    "| `\\f`            | Form Feed                           | `\"Hello\\fWorld\"`           | `Hello\fWorld`               |\n",
    "| `\\v`            | Vertical Tab                        | `\"Hello\\vWorld\"`           | `Hello\u000bWorld`               |\n",
    "| `\\0`            | Null Character                      | `\"Hello\\0World\"`           | `Hello World`               |\n"
   ]
  },
  {
   "cell_type": "code",
   "execution_count": 18,
   "metadata": {},
   "outputs": [
    {
     "name": "stdout",
     "output_type": "stream",
     "text": [
      "[0, 1, 2, 3, 4]\n"
     ]
    }
   ],
   "source": [
    "# The range() Function\n",
    "numbers = list(range(5))\n",
    "print(numbers)\n"
   ]
  },
  {
   "cell_type": "code",
   "execution_count": 19,
   "metadata": {},
   "outputs": [
    {
     "name": "stdout",
     "output_type": "stream",
     "text": [
      "[1, 3, 5, 7, 9]\n"
     ]
    }
   ],
   "source": [
    "numbers = list(range(1, 10, 2))\n",
    "\n",
    "print(numbers)"
   ]
  },
  {
   "cell_type": "code",
   "execution_count": 20,
   "metadata": {},
   "outputs": [
    {
     "name": "stdout",
     "output_type": "stream",
     "text": [
      "3\n"
     ]
    }
   ],
   "source": [
    "# The len() Function\n",
    "\n",
    "fruits = [\"apple\", \"banana\", \"cherry\"]\n",
    "\n",
    "print(len(fruits))"
   ]
  },
  {
   "cell_type": "markdown",
   "metadata": {},
   "source": [
    "# Control Flow is the order in which the computer executes statements in a script. \n",
    "\n",
    "# Conditional Statements: if, elif, else"
   ]
  },
  {
   "cell_type": "code",
   "execution_count": 21,
   "metadata": {},
   "outputs": [
    {
     "name": "stdout",
     "output_type": "stream",
     "text": [
      "You are an adult.\n"
     ]
    }
   ],
   "source": [
    "age = 18\n",
    "if age >= 18:\n",
    "    print(\"You are an adult.\")"
   ]
  },
  {
   "cell_type": "code",
   "execution_count": 22,
   "metadata": {},
   "outputs": [
    {
     "name": "stdout",
     "output_type": "stream",
     "text": [
      "It's a sunny day!\n"
     ]
    }
   ],
   "source": [
    "is_sunny = True\n",
    "if is_sunny:\n",
    "    print(\"It's a sunny day!\")\n",
    "else:\n",
    "    print(\"It's not a sunny day.\")"
   ]
  },
  {
   "cell_type": "code",
   "execution_count": 23,
   "metadata": {},
   "outputs": [
    {
     "name": "stdout",
     "output_type": "stream",
     "text": [
      "Grade: B\n"
     ]
    }
   ],
   "source": [
    "score = 85\n",
    "if score >= 90:\n",
    "    print(\"Grade: A\")\n",
    "elif score >= 80:\n",
    "    print(\"Grade: B\")\n",
    "elif score >= 70:\n",
    "    print(\"Grade: C\")\n",
    "else:\n",
    "    print(\"Grade: F\")"
   ]
  },
  {
   "cell_type": "code",
   "execution_count": 24,
   "metadata": {},
   "outputs": [
    {
     "name": "stdout",
     "output_type": "stream",
     "text": [
      "It's warm.\n"
     ]
    }
   ],
   "source": [
    "temperature = 25\n",
    "if temperature > 30:\n",
    "    print(\"It's hot!\")\n",
    "elif temperature > 20:\n",
    "    print(\"It's warm.\")\n",
    "else:\n",
    "    print(\"It's cold.\")"
   ]
  },
  {
   "cell_type": "markdown",
   "metadata": {},
   "source": [
    "Loops allow you to repeat a block of code multiple times.\n",
    "\n",
    "Python provides two types of loops: for loops and while loops"
   ]
  },
  {
   "cell_type": "code",
   "execution_count": 25,
   "metadata": {},
   "outputs": [
    {
     "name": "stdout",
     "output_type": "stream",
     "text": [
      "apple\n",
      "banana\n",
      "cherry\n"
     ]
    }
   ],
   "source": [
    "fruits = [\"apple\", \"banana\", \"cherry\"]\n",
    "for fruit in fruits:\n",
    "    print(fruit)"
   ]
  },
  {
   "cell_type": "code",
   "execution_count": 26,
   "metadata": {},
   "outputs": [
    {
     "name": "stdout",
     "output_type": "stream",
     "text": [
      "1\n",
      "2\n",
      "3\n",
      "4\n",
      "5\n"
     ]
    }
   ],
   "source": [
    "count = 1\n",
    "while count <= 5:\n",
    "    print(count)\n",
    "    count += 1"
   ]
  },
  {
   "cell_type": "code",
   "execution_count": null,
   "metadata": {},
   "outputs": [],
   "source": [
    "while True:\n",
    "    print(\"This is an infinite loop!\")"
   ]
  },
  {
   "cell_type": "code",
   "execution_count": null,
   "metadata": {},
   "outputs": [],
   "source": []
  },
  {
   "cell_type": "code",
   "execution_count": null,
   "metadata": {},
   "outputs": [],
   "source": []
  }
 ],
 "metadata": {
  "kernelspec": {
   "display_name": "base",
   "language": "python",
   "name": "python3"
  },
  "language_info": {
   "codemirror_mode": {
    "name": "ipython",
    "version": 3
   },
   "file_extension": ".py",
   "mimetype": "text/x-python",
   "name": "python",
   "nbconvert_exporter": "python",
   "pygments_lexer": "ipython3",
   "version": "3.12.4"
  }
 },
 "nbformat": 4,
 "nbformat_minor": 2
}
